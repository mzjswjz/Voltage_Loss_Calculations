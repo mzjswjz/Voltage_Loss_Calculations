{
 "cells": [
  {
   "cell_type": "markdown",
   "id": "efda630a-000c-4069-9997-634f0dba4c1a",
   "metadata": {},
   "source": [
    "### __Import packages and constants__"
   ]
  },
  {
   "cell_type": "code",
   "execution_count": 11,
   "id": "a62181c1",
   "metadata": {},
   "outputs": [],
   "source": [
    "import math\n",
    "import pandas as pd\n",
    "import numpy as np\n",
    "import matplotlib.pyplot as plt\n",
    "import os\n",
    "from scipy.optimize import curve_fit\n",
    "from scipy import integrate as ig\n",
    "from scipy.interpolate import interp1d\n",
    "from functions import J0, J0_rad, SQ, Voc_rad, LED_QE, calculate_summary, Vloss_CT, Vloss_SQ, calculate_Jsc\n",
    "from utils import bb, getAM15, linear, set_up_plot\n",
    "from utils_EQE import extend_EQE\n",
    "from utils_EQE import Marcus_Gaussian\n",
    "from datetime import datetime"
   ]
  },
  {
   "cell_type": "code",
   "execution_count": 2,
   "id": "0cbf32e4",
   "metadata": {},
   "outputs": [],
   "source": [
    "T = 293 # [K] ambient & cell temperature\n",
    "h = 6.626 * 10**(-34) # [kgm^2/s]\n",
    "h_eV = 4.1357*10**(-15) # eV s\n",
    "c = 2.998 * 10**(8) # [m/s]\n",
    "k = 1.3806 * 10**(-23) # [kgm^2/s^2K]\n",
    "k_eV = 8.6173*10**(-5) # eV / K\n",
    "q = 1.60217662 * 10**(-19) # [C]\n",
    "q_eV = 1\n",
    "Vth = k_eV*T/q_eV # thermal voltage [eV]"
   ]
  },
  {
   "cell_type": "code",
   "execution_count": 3,
   "id": "db9254c4",
   "metadata": {},
   "outputs": [
    {
     "data": {
      "text/plain": [
       "'/Users/jswjzhm/Desktop/git/Voltage_Loss_Ming'"
      ]
     },
     "execution_count": 3,
     "metadata": {},
     "output_type": "execute_result"
    }
   ],
   "source": [
    "codePath = os.getcwd()#only makes sense after kernel restart\n",
    "codePath"
   ]
  },
  {
   "cell_type": "markdown",
   "id": "2d93714d-a483-4b00-992e-34d756cc7ca3",
   "metadata": {},
   "source": [
    "### __Calculating each components of Voltage loss under Detailed Balanced picture__"
   ]
  },
  {
   "cell_type": "code",
   "execution_count": 4,
   "id": "19ace721",
   "metadata": {},
   "outputs": [
    {
     "name": "stderr",
     "output_type": "stream",
     "text": [
      "/Users/jswjzhm/Desktop/git/Voltage_Loss_Ming/functions.py:61: IntegrationWarning: The maximum number of subdivisions (50) has been achieved.\n",
      "  If increasing the limit yields no improvement it is advised to analyze \n",
      "  the integrand in order to determine the difficulties.  If the position of a \n",
      "  local difficulty can be determined (singularity, discontinuity) one will \n",
      "  probably gain from splitting up the interval and calling the integrator \n",
      "  on the subranges.  Perhaps a special-purpose integrator should be used.\n",
      "  result = ig.quad(lambda e: q*EQE_intp(e)*AM15_intp(e), min(E), max(E))\n"
     ]
    }
   ],
   "source": [
    "# !!!!!!Change path to your bins.csv file before you run this block !!!!!!\n",
    "\n",
    "#Path to bin.csv file\n",
    "binFile = r'/Users/jswjzhm/Desktop/EQE data and analysis/Voltage Loss/240517_Cluster_DCV3T_T1/DV_PHJ_SubNc_DCV3T_C60/bins_Vloss_Linear_EQE.csv'\n",
    "\n",
    "# !!!!!!!!\n",
    "\n",
    "#initialize the variable df to store voltage loss results\n",
    "df = pd.read_csv(binFile, sep = ',') #uses .csv headers as column labels   \n",
    "df['Voc_SQ']=np.nan\n",
    "df['Voc_sc']=np.nan\n",
    "df['Voc_rad']=np.nan\n",
    "\n",
    "df['Delta_V_SQ'] = np.nan\n",
    "df['Delta_V_sc']=np.nan\n",
    "df['Delta_V_rad']=np.nan\n",
    "df['Delta_V_nonrad']=np.nan\n",
    "df['Q_LED']=np.nan\n",
    "\n",
    "for ind, row in df.iterrows():\n",
    "    #Reading in the EQE data file to EQE_df\n",
    "    EQE_folder = row['EQE_folder']\n",
    "    EQE_file = row['EQE_folder'] + '/' + row['EQE_file']\n",
    "    EQEdata = np.genfromtxt(EQE_file, skip_header = 1, delimiter = ',')\n",
    "    EQE_df = pd.DataFrame()\n",
    "    EQE_df['Energy'] = np.flip(EQEdata[:,1])\n",
    "    EQE_df['EQE'] = np.flip(EQEdata[:,2])*row['EQE_fac']\n",
    "    \n",
    "    os.chdir(codePath)  \n",
    "    #calculate \n",
    "    phi_bb_df = bb(EQE_df['Energy'])\n",
    "    Jsc_EQE = calculate_Jsc(EQE_df['Energy'],EQE_df['EQE'])\n",
    "    J0rad_EQE = J0_rad(EQE_df, phi_bb_df)\n",
    "    vocrad,temp = Voc_rad(row['Voc'], Jsc_EQE, J0rad_EQE)\n",
    "    df.at[ind,'Voc_rad'] = vocrad\n",
    "    df.at[ind,'Voc_SQ'], df.at[ind,'Delta_V_sc'], df.at[ind,'Delta_V_rad'], df.at[ind,'Delta_V_nonrad'] = Vloss_SQ(row['Eg'], row['Voc'], row['Jsc'], voc_rad = vocrad)#\n",
    "    \n",
    "df['Voc_sc'] = df['Voc_SQ'] - df['Delta_V_sc']\n",
    "df['Delta_V_SQ'] = df['Eg'] - df['Voc_SQ']\n",
    "\n",
    "for ind, row in df.iterrows():\n",
    "    df.at[ind,'Q_LED'] = LED_QE( row['Delta_V_nonrad'])"
   ]
  },
  {
   "cell_type": "markdown",
   "id": "0a027454-bd20-41ed-adad-45e9e51b8a1b",
   "metadata": {},
   "source": [
    "### __Output the results__"
   ]
  },
  {
   "cell_type": "code",
   "execution_count": 5,
   "id": "a7d209b1",
   "metadata": {},
   "outputs": [
    {
     "data": {
      "text/html": [
       "<div>\n",
       "<style scoped>\n",
       "    .dataframe tbody tr th:only-of-type {\n",
       "        vertical-align: middle;\n",
       "    }\n",
       "\n",
       "    .dataframe tbody tr th {\n",
       "        vertical-align: top;\n",
       "    }\n",
       "\n",
       "    .dataframe thead th {\n",
       "        text-align: right;\n",
       "    }\n",
       "</style>\n",
       "<table border=\"1\" class=\"dataframe\">\n",
       "  <thead>\n",
       "    <tr style=\"text-align: right;\">\n",
       "      <th></th>\n",
       "      <th>run</th>\n",
       "      <th>substrate</th>\n",
       "      <th>pixel</th>\n",
       "      <th>description</th>\n",
       "      <th>EQE_folder</th>\n",
       "      <th>EQE_file</th>\n",
       "      <th>EQE_fac</th>\n",
       "      <th>Eg</th>\n",
       "      <th>Jsc</th>\n",
       "      <th>Voc</th>\n",
       "      <th>Voc_SQ</th>\n",
       "      <th>Voc_sc</th>\n",
       "      <th>Voc_rad</th>\n",
       "      <th>Delta_V_SQ</th>\n",
       "      <th>Delta_V_sc</th>\n",
       "      <th>Delta_V_rad</th>\n",
       "      <th>Delta_V_nonrad</th>\n",
       "      <th>Q_LED</th>\n",
       "    </tr>\n",
       "  </thead>\n",
       "  <tbody>\n",
       "    <tr>\n",
       "      <th>0</th>\n",
       "      <td>22_p4_best_(360-1100nm)</td>\n",
       "      <td>22</td>\n",
       "      <td>4</td>\n",
       "      <td>RT,20nm SubNc, 20nm DCV3T, 5nm C60</td>\n",
       "      <td>/Users/jswjzhm/Desktop/EQE data and analysis/E...</td>\n",
       "      <td>22_p4_best_(360-1100nm)_linear-fit</td>\n",
       "      <td>1</td>\n",
       "      <td>1.694</td>\n",
       "      <td>7.5</td>\n",
       "      <td>1.09</td>\n",
       "      <td>1.421713</td>\n",
       "      <td>1.393914</td>\n",
       "      <td>1.367725</td>\n",
       "      <td>0.272287</td>\n",
       "      <td>0.027799</td>\n",
       "      <td>0.026189</td>\n",
       "      <td>0.277725</td>\n",
       "      <td>0.000017</td>\n",
       "    </tr>\n",
       "  </tbody>\n",
       "</table>\n",
       "</div>"
      ],
      "text/plain": [
       "                       run  substrate  pixel  \\\n",
       "0  22_p4_best_(360-1100nm)         22      4   \n",
       "\n",
       "                          description  \\\n",
       "0  RT,20nm SubNc, 20nm DCV3T, 5nm C60   \n",
       "\n",
       "                                          EQE_folder  \\\n",
       "0  /Users/jswjzhm/Desktop/EQE data and analysis/E...   \n",
       "\n",
       "                             EQE_file  EQE_fac     Eg  Jsc   Voc    Voc_SQ  \\\n",
       "0  22_p4_best_(360-1100nm)_linear-fit        1  1.694  7.5  1.09  1.421713   \n",
       "\n",
       "     Voc_sc   Voc_rad  Delta_V_SQ  Delta_V_sc  Delta_V_rad  Delta_V_nonrad  \\\n",
       "0  1.393914  1.367725    0.272287    0.027799     0.026189        0.277725   \n",
       "\n",
       "      Q_LED  \n",
       "0  0.000017  "
      ]
     },
     "execution_count": 5,
     "metadata": {},
     "output_type": "execute_result"
    }
   ],
   "source": [
    "df"
   ]
  },
  {
   "cell_type": "markdown",
   "id": "53c8d2b0-11c8-4a70-b6b5-738baca5e738",
   "metadata": {},
   "source": [
    "### __Save Results to a file in the same folder as your bins.csv file__"
   ]
  },
  {
   "cell_type": "markdown",
   "id": "0f9d74b4-7172-4634-8325-00f514b53a0c",
   "metadata": {},
   "source": [
    "#### __Name the file with DB calculated voltage loss results__"
   ]
  },
  {
   "cell_type": "code",
   "execution_count": 9,
   "id": "ce0265a6-3340-4c98-b970-b4f4f1edb9c1",
   "metadata": {},
   "outputs": [],
   "source": [
    "# !!!!!!Change file name before you run next block !!!!!!\n",
    "\n",
    "vloss_filename = 'VoltageLoss_Analysis_test'\n",
    "\n",
    "# !!!!!!"
   ]
  },
  {
   "cell_type": "code",
   "execution_count": 12,
   "id": "b855fdf6",
   "metadata": {},
   "outputs": [],
   "source": [
    "#Path to the folder \n",
    "\n",
    "# !!!!!!Change file name before you run the block !!!!!!\n",
    "folder_path = os.path.dirname(binFile)\n",
    "timestamp = datetime.now().strftime('%Y%m%d_%H%M%S')\n",
    "file_name_with_time = f\"{vloss_filename}_{timestamp}.csv\"\n",
    "save_path = os.path.join(folder_path, file_name_with_time)\n",
    "df.to_csv(save_path)\n",
    "\n",
    " "
   ]
  }
 ],
 "metadata": {
  "kernelspec": {
   "display_name": "Python 3 (ipykernel)",
   "language": "python",
   "name": "python3"
  },
  "language_info": {
   "codemirror_mode": {
    "name": "ipython",
    "version": 3
   },
   "file_extension": ".py",
   "mimetype": "text/x-python",
   "name": "python",
   "nbconvert_exporter": "python",
   "pygments_lexer": "ipython3",
   "version": "3.11.8"
  }
 },
 "nbformat": 4,
 "nbformat_minor": 5
}
